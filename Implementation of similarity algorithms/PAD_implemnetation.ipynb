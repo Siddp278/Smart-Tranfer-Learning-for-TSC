{
  "cells": [
    {
      "cell_type": "code",
      "execution_count": 1,
      "metadata": {
        "id": "8Yu-7YYNBVcR"
      },
      "outputs": [],
      "source": [
        "from pandas import read_csv\n",
        "from matplotlib import pyplot\n",
        "import seaborn as sn\n",
        "import matplotlib.pyplot as plt\n",
        "\n",
        "import numpy as np\n",
        "from sklearn import svm"
      ]
    },
    {
      "cell_type": "code",
      "execution_count": 2,
      "metadata": {
        "id": "Bl1Cn_YQHOhD"
      },
      "outputs": [],
      "source": [
        "# MMD implementation\n",
        "# https://github.com/jindongwang/transferlearning/blob/master/code/distance/mmd_numpy_sklearn.py"
      ]
    },
    {
      "cell_type": "code",
      "execution_count": 3,
      "metadata": {
        "colab": {
          "base_uri": "https://localhost:8080/"
        },
        "id": "f5MK3pRrDOTw",
        "outputId": "1d885222-131a-4448-9439-0344c271dc26"
      },
      "outputs": [
        {
          "name": "stdout",
          "output_type": "stream",
          "text": [
            "Mounted at /content/drive/\n"
          ]
        }
      ],
      "source": [
        "from google.colab import drive\n",
        "drive.mount('/content/drive/')"
      ]
    },
    {
      "cell_type": "code",
      "execution_count": 4,
      "metadata": {
        "id": "9PZ7UHdHDSbn"
      },
      "outputs": [],
      "source": [
        "import os\n",
        "os.chdir('/content/drive/My Drive/Colab Notebooks/Transfer learning project/UCR_TS_Archive_2015/')"
      ]
    },
    {
      "cell_type": "code",
      "execution_count": 5,
      "metadata": {
        "id": "PbonBGZjDV5u"
      },
      "outputs": [],
      "source": [
        "dataset_list = ['50words/50words_TRAIN', 'Meat/Meat_TRAIN', 'HandOutlines/HandOutlines_TRAIN', \n",
        "                'InlineSkate/InlineSkate_TRAIN', 'DiatomSizeReduction/DiatomSizeReduction_TRAIN']\n",
        "\n",
        "data = []\n",
        "for data_name in dataset_list:\n",
        "  data.append(read_csv(data_name, header=None))"
      ]
    },
    {
      "cell_type": "code",
      "execution_count": 6,
      "metadata": {
        "colab": {
          "base_uri": "https://localhost:8080/"
        },
        "id": "mf60_cD8FtOy",
        "outputId": "4ae8aa3f-68b5-4c97-d1c0-457359210f53"
      },
      "outputs": [
        {
          "data": {
            "text/plain": [
              "(60, 449)"
            ]
          },
          "execution_count": 6,
          "metadata": {},
          "output_type": "execute_result"
        }
      ],
      "source": [
        "np.shape(data[1])"
      ]
    },
    {
      "cell_type": "code",
      "execution_count": null,
      "metadata": {
        "colab": {
          "base_uri": "https://localhost:8080/",
          "height": 53
        },
        "id": "PxDZsiWlDZtM",
        "outputId": "f355f210-ecff-466d-d5e9-1592ff01fbb2"
      },
      "outputs": [
        {
          "data": {
            "application/vnd.google.colaboratory.intrinsic+json": {
              "type": "string"
            },
            "text/plain": [
              "\"\\nThe algorithm is as follows:\\n\\nMix the two datasets. Apply label that indicate each example's origin.\\nTrain a classifier on these merged data.\\nMeasure the classifier's error e on a held-out test set.\\nSet PAD = 2 (1 − 2e)\\n\""
            ]
          },
          "execution_count": 5,
          "metadata": {},
          "output_type": "execute_result"
        }
      ],
      "source": [
        "\"\"\"\n",
        "The algorithm is as follows:\n",
        "\n",
        "Mix the two datasets. Apply label that indicate each example's origin.\n",
        "Train a classifier on these merged data.\n",
        "Measure the classifier's error e on a held-out test set.\n",
        "Set PAD = 2 (1 − 2e)\n",
        "\"\"\""
      ]
    },
    {
      "cell_type": "code",
      "execution_count": null,
      "metadata": {
        "id": "VetVSLFgDrO0"
      },
      "outputs": [],
      "source": [
        "def proxy_a_distance(source_X, target_X, verbose=False):\n",
        "    \"\"\"\n",
        "    Compute the Proxy-A-Distance of a source/target representation\n",
        "    \"\"\"\n",
        "    nb_source = np.shape(source_X)[0]\n",
        "    nb_target = np.shape(target_X)[0]\n",
        "\n",
        "    if verbose:\n",
        "        print('PAD on', (nb_source, nb_target), 'examples')\n",
        "\n",
        "    # C_list = np.logspace(-7, 5, 10)\n",
        "    C_list = [0.0001, 0.000001]\n",
        "\n",
        "    if np.shape(source_X)[1] < np.shape(target_X)[1]:\n",
        "      half_source, half_target = int(nb_source/2), int(nb_target/2)\n",
        "      train_X = np.vstack((source_X.iloc[0:half_source, :np.shape(source_X)[1]], target_X.iloc[0:half_target, :np.shape(source_X)[1]]))\n",
        "      train_Y = np.hstack((np.zeros(half_source, dtype=int), np.ones(half_target, dtype=int)))\n",
        "\n",
        "      test_X = np.vstack((source_X.iloc[half_source:, :np.shape(source_X)[1]], target_X.iloc[half_target:, :np.shape(source_X)[1]]))\n",
        "      test_Y = np.hstack((np.zeros(nb_source - half_source, dtype=int), np.ones(nb_target - half_target, dtype=int)))\n",
        "\n",
        "    else:\n",
        "      half_source, half_target = int(nb_source/2), int(nb_target/2)\n",
        "      train_X = np.vstack((source_X.iloc[0:half_source, :np.shape(target_X)[1]], target_X.iloc[0:half_target, :np.shape(target_X)[1]]))\n",
        "      train_Y = np.hstack((np.zeros(half_source, dtype=int), np.ones(half_target, dtype=int)))  \n",
        "\n",
        "      test_X = np.vstack((source_X.iloc[half_source:, :np.shape(target_X)[1]], target_X.iloc[half_target:, :np.shape(target_X)[1]]))\n",
        "      test_Y = np.hstack((np.zeros(nb_source - half_source, dtype=int), np.ones(nb_target - half_target, dtype=int)))\n",
        "\n",
        "\n",
        "    best_risk = []\n",
        "    for C in C_list:\n",
        "        clf = svm.SVC(C=C, kernel='linear', verbose=False)\n",
        "        clf.fit(train_X, train_Y)\n",
        "\n",
        "        train_risk = np.mean(clf.predict(train_X) != train_Y)\n",
        "        test_risk = np.mean(clf.predict(test_X) != test_Y)\n",
        "\n",
        "        if verbose:\n",
        "            print('[ PAD C = %f ] train risk: %f  test risk: %f' % (C, train_risk, test_risk))\n",
        "\n",
        "        if test_risk > .5:\n",
        "            test_risk = 1. - test_risk\n",
        "\n",
        "        best_risk.append(2 * (1. - 2 * test_risk))\n",
        "\n",
        "    return best_risk"
      ]
    },
    {
      "cell_type": "code",
      "execution_count": null,
      "metadata": {
        "colab": {
          "base_uri": "https://localhost:8080/"
        },
        "id": "sPSCg2UNGoKV",
        "outputId": "6e4bdf97-6428-4b72-d749-638e73b42590"
      },
      "outputs": [
        {
          "name": "stdout",
          "output_type": "stream",
          "text": [
            "Combo: 1\n",
            "PAD on (450, 60) examples\n",
            "[ PAD C = 0.000100 ] train risk: 0.117647  test risk: 0.117647\n",
            "[ PAD C = 0.000001 ] train risk: 0.117647  test risk: 0.117647\n",
            "the PAD values are: [1.5294117647058822, 1.5294117647058822]\n",
            "Combo: 2\n",
            "PAD on (450, 370) examples\n",
            "[ PAD C = 0.000100 ] train risk: 0.000000  test risk: 0.000000\n",
            "[ PAD C = 0.000001 ] train risk: 0.451220  test risk: 0.451220\n",
            "the PAD values are: [2.0, 0.19512195121951215]\n",
            "Combo: 3\n",
            "PAD on (450, 100) examples\n",
            "[ PAD C = 0.000100 ] train risk: 0.181818  test risk: 0.181818\n",
            "[ PAD C = 0.000001 ] train risk: 0.181818  test risk: 0.181818\n",
            "the PAD values are: [1.2727272727272727, 1.2727272727272727]\n",
            "Combo: 4\n",
            "PAD on (450, 16) examples\n",
            "[ PAD C = 0.000100 ] train risk: 0.034335  test risk: 0.034335\n",
            "[ PAD C = 0.000001 ] train risk: 0.034335  test risk: 0.034335\n",
            "the PAD values are: [1.8626609442060085, 1.8626609442060085]\n",
            "Combo: 5\n",
            "PAD on (60, 450) examples\n",
            "[ PAD C = 0.000100 ] train risk: 0.117647  test risk: 0.117647\n",
            "[ PAD C = 0.000001 ] train risk: 0.117647  test risk: 0.117647\n",
            "the PAD values are: [1.5294117647058822, 1.5294117647058822]\n",
            "Combo: 6\n",
            "PAD on (60, 370) examples\n",
            "[ PAD C = 0.000100 ] train risk: 0.000000  test risk: 0.000000\n",
            "[ PAD C = 0.000001 ] train risk: 0.139535  test risk: 0.139535\n",
            "the PAD values are: [2.0, 1.441860465116279]\n",
            "Combo: 7\n",
            "PAD on (60, 100) examples\n",
            "[ PAD C = 0.000100 ] train risk: 0.000000  test risk: 0.000000\n",
            "[ PAD C = 0.000001 ] train risk: 0.375000  test risk: 0.375000\n",
            "the PAD values are: [2.0, 0.5]\n",
            "Combo: 8\n",
            "PAD on (60, 16) examples\n",
            "[ PAD C = 0.000100 ] train risk: 0.210526  test risk: 0.210526\n",
            "[ PAD C = 0.000001 ] train risk: 0.210526  test risk: 0.210526\n",
            "the PAD values are: [1.1578947368421053, 1.1578947368421053]\n",
            "Combo: 9\n",
            "PAD on (370, 450) examples\n",
            "[ PAD C = 0.000100 ] train risk: 0.000000  test risk: 0.000000\n",
            "[ PAD C = 0.000001 ] train risk: 0.451220  test risk: 0.451220\n",
            "the PAD values are: [2.0, 0.19512195121951215]\n",
            "Combo: 10\n",
            "PAD on (370, 60) examples\n",
            "[ PAD C = 0.000100 ] train risk: 0.000000  test risk: 0.000000\n",
            "[ PAD C = 0.000001 ] train risk: 0.139535  test risk: 0.139535\n",
            "the PAD values are: [2.0, 1.441860465116279]\n",
            "Combo: 11\n",
            "PAD on (370, 100) examples\n",
            "[ PAD C = 0.000100 ] train risk: 0.004255  test risk: 0.004255\n",
            "[ PAD C = 0.000001 ] train risk: 0.212766  test risk: 0.212766\n",
            "the PAD values are: [1.9829787234042553, 1.148936170212766]\n",
            "Combo: 12\n",
            "PAD on (370, 16) examples\n",
            "[ PAD C = 0.000100 ] train risk: 0.041451  test risk: 0.041451\n",
            "[ PAD C = 0.000001 ] train risk: 0.041451  test risk: 0.041451\n",
            "the PAD values are: [1.83419689119171, 1.83419689119171]\n",
            "Combo: 13\n",
            "PAD on (100, 450) examples\n",
            "[ PAD C = 0.000100 ] train risk: 0.181818  test risk: 0.181818\n",
            "[ PAD C = 0.000001 ] train risk: 0.181818  test risk: 0.181818\n",
            "the PAD values are: [1.2727272727272727, 1.2727272727272727]\n",
            "Combo: 14\n",
            "PAD on (100, 60) examples\n",
            "[ PAD C = 0.000100 ] train risk: 0.000000  test risk: 0.000000\n",
            "[ PAD C = 0.000001 ] train risk: 0.375000  test risk: 0.375000\n",
            "the PAD values are: [2.0, 0.5]\n",
            "Combo: 15\n",
            "PAD on (100, 370) examples\n",
            "[ PAD C = 0.000100 ] train risk: 0.004255  test risk: 0.004255\n",
            "[ PAD C = 0.000001 ] train risk: 0.212766  test risk: 0.212766\n",
            "the PAD values are: [1.9829787234042553, 1.148936170212766]\n",
            "Combo: 16\n",
            "PAD on (100, 16) examples\n",
            "[ PAD C = 0.000100 ] train risk: 0.137931  test risk: 0.137931\n",
            "[ PAD C = 0.000001 ] train risk: 0.137931  test risk: 0.137931\n",
            "the PAD values are: [1.4482758620689655, 1.4482758620689655]\n",
            "Combo: 17\n",
            "PAD on (16, 450) examples\n",
            "[ PAD C = 0.000100 ] train risk: 0.034335  test risk: 0.034335\n",
            "[ PAD C = 0.000001 ] train risk: 0.034335  test risk: 0.034335\n",
            "the PAD values are: [1.8626609442060085, 1.8626609442060085]\n",
            "Combo: 18\n",
            "PAD on (16, 60) examples\n",
            "[ PAD C = 0.000100 ] train risk: 0.210526  test risk: 0.210526\n",
            "[ PAD C = 0.000001 ] train risk: 0.210526  test risk: 0.210526\n",
            "the PAD values are: [1.1578947368421053, 1.1578947368421053]\n",
            "Combo: 19\n",
            "PAD on (16, 370) examples\n",
            "[ PAD C = 0.000100 ] train risk: 0.041451  test risk: 0.041451\n",
            "[ PAD C = 0.000001 ] train risk: 0.041451  test risk: 0.041451\n",
            "the PAD values are: [1.83419689119171, 1.83419689119171]\n",
            "Combo: 20\n",
            "PAD on (16, 100) examples\n",
            "[ PAD C = 0.000100 ] train risk: 0.137931  test risk: 0.137931\n",
            "[ PAD C = 0.000001 ] train risk: 0.137931  test risk: 0.137931\n",
            "the PAD values are: [1.4482758620689655, 1.4482758620689655]\n"
          ]
        }
      ],
      "source": [
        "count = 1\n",
        "for dt in data:\n",
        "  for dtt in data:\n",
        "    if dt.shape[0] != dtt.shape[0]:\n",
        "      print(\"Combo: {}\".format(count))\n",
        "      count += 1\n",
        "      print(\"the PAD values are: {}\".format(proxy_a_distance(dt, dtt, verbose=True)))"
      ]
    },
    {
      "cell_type": "markdown",
      "metadata": {
        "id": "cu1PtiVx4elX"
      },
      "source": [
        "## Another implementation for PAD"
      ]
    },
    {
      "cell_type": "code",
      "execution_count": 14,
      "metadata": {
        "colab": {
          "base_uri": "https://localhost:8080/"
        },
        "id": "FRXsxG_24jy5",
        "outputId": "d08a1cf4-a4de-4886-fbe0-0ad2bba8d77e"
      },
      "outputs": [
        {
          "name": "stderr",
          "output_type": "stream",
          "text": [
            "<ipython-input-14-7d8248200912>:11: SettingWithCopyWarning: \n",
            "A value is trying to be set on a copy of a slice from a DataFrame\n",
            "\n",
            "See the caveats in the documentation: https://pandas.pydata.org/pandas-docs/stable/user_guide/indexing.html#returning-a-view-versus-a-copy\n",
            "  dt[\"PAD\"].iloc[i] = pad_distance(dt.iloc[i:i+1, 1:])\n"
          ]
        },
        {
          "data": {
            "text/plain": [
              "0    13.459200\n",
              "1    23.728118\n",
              "2    15.683794\n",
              "3    14.647256\n",
              "4    16.671508\n",
              "Name: PAD, dtype: float64"
            ]
          },
          "execution_count": 14,
          "metadata": {},
          "output_type": "execute_result"
        }
      ],
      "source": [
        "# See DTW in series chat in chatgpt for explanation\n",
        "\n",
        "def pad_distance(ts1):\n",
        "    # Compute the proxy series for each time series\n",
        "    proxy = np.sum(np.abs(np.diff(np.array(ts1))))\n",
        "    return proxy\n",
        "\n",
        "for dt in data:\n",
        "  dt[\"PAD\"] = 0\n",
        "  for i in range(dt.shape[0]):\n",
        "    dt[\"PAD\"].iloc[i] = pad_distance(dt.iloc[i:i+1, 1:]) \n",
        "\n",
        "data[0][\"PAD\"].head()"
      ]
    },
    {
      "cell_type": "code",
      "execution_count": 18,
      "metadata": {
        "id": "R-sAJHvJ67Fk"
      },
      "outputs": [],
      "source": [
        "# Creating distance matrix for two datasets  "
      ]
    },
    {
      "cell_type": "code",
      "execution_count": 17,
      "metadata": {
        "id": "ByufcLPf8_df"
      },
      "outputs": [],
      "source": [
        "def PAD_distance_matrix(dt1, dt2):\n",
        "  dis = np.zeros((dt1.shape[0], dt2.shape[0]))\n",
        "\n",
        "  for i in range(dt1.shape[0]):\n",
        "    for j in range(dt2.shape[0]):\n",
        "      dis[i][j] = np.sqrt((dt1[\"PAD\"].iloc[i] - dt2[\"PAD\"].iloc[j]) ** 2)\n",
        "\n",
        "  return dis    "
      ]
    },
    {
      "cell_type": "code",
      "execution_count": 20,
      "metadata": {
        "colab": {
          "base_uri": "https://localhost:8080/"
        },
        "id": "6bmdYS4v9YJt",
        "outputId": "a3896f91-1559-47ec-e541-49655746d64b"
      },
      "outputs": [
        {
          "data": {
            "text/plain": [
              "7.519030247265184"
            ]
          },
          "execution_count": 20,
          "metadata": {},
          "output_type": "execute_result"
        }
      ],
      "source": [
        "dis01 = PAD_distance_matrix(data[0], data[1])\n",
        "dis01.mean()"
      ]
    },
    {
      "cell_type": "code",
      "execution_count": 1,
      "metadata": {
        "id": "tn8dNAjI9g2G"
      },
      "outputs": [],
      "source": [
        "# Question is should I send the whole dataset or parts of dataset (where each part has data for each class)"
      ]
    },
    {
      "cell_type": "code",
      "execution_count": null,
      "metadata": {},
      "outputs": [],
      "source": []
    }
  ],
  "metadata": {
    "colab": {
      "provenance": []
    },
    "interpreter": {
      "hash": "05b58bb330a4d791c8030e77c4911c5378dd83905ac6858fb7f7c2e662a7a1f7"
    },
    "kernelspec": {
      "display_name": "Python 3.8.6 64-bit",
      "language": "python",
      "name": "python3"
    },
    "language_info": {
      "codemirror_mode": {
        "name": "ipython",
        "version": 3
      },
      "file_extension": ".py",
      "mimetype": "text/x-python",
      "name": "python",
      "nbconvert_exporter": "python",
      "pygments_lexer": "ipython3",
      "version": "3.8.6"
    }
  },
  "nbformat": 4,
  "nbformat_minor": 0
}
